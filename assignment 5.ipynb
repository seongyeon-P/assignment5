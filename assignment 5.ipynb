{
 "cells": [
  {
   "cell_type": "markdown",
   "id": "669e2e27",
   "metadata": {},
   "source": [
    "# 3. "
   ]
  },
  {
   "cell_type": "code",
   "execution_count": 56,
   "id": "6697555c",
   "metadata": {},
   "outputs": [],
   "source": [
    "# heap.py 저장\n",
    "\n",
    "class Heap:\n",
    "    def __init__(self, *args):\n",
    "        if len(args) != 0:\n",
    "            self.__A = args[0]\n",
    "        else:\n",
    "            self.__A = []\n",
    "\n",
    "    def insert(self, x):\n",
    "        self.__A.append(x)\n",
    "        self.__percolateUp(len(self.__A) - 1)\n",
    "\n",
    "    def __percolateUp(self, i: int):\n",
    "        parent = (i - 1) // 2\n",
    "        if i > 0 and self.__A[i] > self.__A[parent]:\n",
    "            self.__A[i], self.__A[parent] = self.__A[parent], self.__A[i]\n",
    "            self.__percolateUp(parent)\n",
    "\n",
    "    def deleteMax(self):\n",
    "        if not self.isEmpty():\n",
    "            max_item = self.__A[0]\n",
    "            self.__A[0] = self.__A.pop()\n",
    "            self.__percolateDown(0)\n",
    "            return max_item\n",
    "        else:\n",
    "            return None\n",
    "\n",
    "    def __percolateDown(self, i: int):\n",
    "        child = 2 * i + 1\n",
    "        right = 2 * i + 2\n",
    "        if child <= len(self.__A) - 1:\n",
    "            if right <= len(self.__A) - 1 and self.__A[child] < self.__A[right]:\n",
    "                child = right\n",
    "            if self.__A[i] < self.__A[child]:\n",
    "                self.__A[i], self.__A[child] = self.__A[child], self.__A[i]\n",
    "                self.__percolateDown(child)\n",
    "\n",
    "    def max(self):\n",
    "        return self.__A[0]\n",
    "\n",
    "    def buildHeap(self):\n",
    "        for i in range((len(self.__A) - 2) // 2, -1, -1):\n",
    "            self.__percolateDown(i)\n",
    "\n",
    "    def isEmpty(self) -> bool:\n",
    "        return len(self.__A) == 0\n",
    "\n",
    "    def clear(self):\n",
    "        self.__A = []\n",
    "\n",
    "    def size(self) -> int:\n",
    "        return len(self.__A)\n"
   ]
  },
  {
   "cell_type": "code",
   "execution_count": 57,
   "id": "d0ffe915",
   "metadata": {},
   "outputs": [],
   "source": [
    "import csv\n",
    "from datetime import datetime\n",
    "\n",
    "csv_path = \"C:/Users/tjddu/OneDrive/바탕 화면/생일/birthday.csv\"\n",
    "\n",
    "birthday_list = []\n",
    "with open(csv_path, newline=\"\", encoding=\"utf-8\") as csvfile:\n",
    "    reader = csv.DictReader(csvfile, delimiter=',')\n",
    "    for row in reader:\n",
    "        raw_date = row['생년월일8자리(예.20040101)'].strip()\n",
    "        name = row['이름'].strip()\n",
    "        try:\n",
    "            birth_date = datetime.strptime(raw_date, \"%Y%m%d\")\n",
    "            birthday_list.append((birth_date, name))\n",
    "        except ValueError:\n",
    "            continue  # 에러 나면 아무 것도 안 하고 조용히 제외\n",
    "\n",
    "# 여기서 heap이 정의됨!\n",
    "heap = Heap()\n",
    "for item in birthday_list:\n",
    "    heap.insert(item)\n"
   ]
  },
  {
   "cell_type": "code",
   "execution_count": 58,
   "id": "ea4ab719",
   "metadata": {},
   "outputs": [
    {
     "data": {
      "text/markdown": [
       "###  생일이 늦은 순서로 10명"
      ],
      "text/plain": [
       "<IPython.core.display.Markdown object>"
      ]
     },
     "metadata": {},
     "output_type": "display_data"
    },
    {
     "data": {
      "text/markdown": [
       "- **신수민**: `2005-12-30`"
      ],
      "text/plain": [
       "<IPython.core.display.Markdown object>"
      ]
     },
     "metadata": {},
     "output_type": "display_data"
    },
    {
     "data": {
      "text/markdown": [
       "- **이서영**: `2005-12-25`"
      ],
      "text/plain": [
       "<IPython.core.display.Markdown object>"
      ]
     },
     "metadata": {},
     "output_type": "display_data"
    },
    {
     "data": {
      "text/markdown": [
       "- **강민주**: `2005-12-14`"
      ],
      "text/plain": [
       "<IPython.core.display.Markdown object>"
      ]
     },
     "metadata": {},
     "output_type": "display_data"
    },
    {
     "data": {
      "text/markdown": [
       "- **김민경**: `2005-12-02`"
      ],
      "text/plain": [
       "<IPython.core.display.Markdown object>"
      ]
     },
     "metadata": {},
     "output_type": "display_data"
    },
    {
     "data": {
      "text/markdown": [
       "- **이서영**: `2005-11-12`"
      ],
      "text/plain": [
       "<IPython.core.display.Markdown object>"
      ]
     },
     "metadata": {},
     "output_type": "display_data"
    },
    {
     "data": {
      "text/markdown": [
       "- **배시은**: `2005-11-02`"
      ],
      "text/plain": [
       "<IPython.core.display.Markdown object>"
      ]
     },
     "metadata": {},
     "output_type": "display_data"
    },
    {
     "data": {
      "text/markdown": [
       "- **김여원**: `2005-10-31`"
      ],
      "text/plain": [
       "<IPython.core.display.Markdown object>"
      ]
     },
     "metadata": {},
     "output_type": "display_data"
    },
    {
     "data": {
      "text/markdown": [
       "- **이서진**: `2005-10-28`"
      ],
      "text/plain": [
       "<IPython.core.display.Markdown object>"
      ]
     },
     "metadata": {},
     "output_type": "display_data"
    },
    {
     "data": {
      "text/markdown": [
       "- **서홍빈**: `2005-10-24`"
      ],
      "text/plain": [
       "<IPython.core.display.Markdown object>"
      ]
     },
     "metadata": {},
     "output_type": "display_data"
    },
    {
     "data": {
      "text/markdown": [
       "- **김예빈**: `2005-10-19`"
      ],
      "text/plain": [
       "<IPython.core.display.Markdown object>"
      ]
     },
     "metadata": {},
     "output_type": "display_data"
    }
   ],
   "source": [
    "from IPython.display import display, Markdown\n",
    "\n",
    "display(Markdown(\"###  생일이 늦은 순서로 10명\"))\n",
    "\n",
    "for _ in range(min(10, heap.size())):\n",
    "    birth_date, name = heap.deleteMax()\n",
    "    display(Markdown(f\"- **{name}**: `{birth_date.strftime('%Y-%m-%d')}`\"))\n"
   ]
  },
  {
   "cell_type": "markdown",
   "id": "5833987b",
   "metadata": {},
   "source": [
    "# 4."
   ]
  },
  {
   "cell_type": "code",
   "execution_count": 40,
   "id": "69ace4d9",
   "metadata": {},
   "outputs": [
    {
     "data": {
      "text/markdown": [
       "###  6조 조원들의 생년월일"
      ],
      "text/plain": [
       "<IPython.core.display.Markdown object>"
      ]
     },
     "metadata": {},
     "output_type": "display_data"
    },
    {
     "data": {
      "text/markdown": [
       "- **김민경** (...78): `2005-12-02`"
      ],
      "text/plain": [
       "<IPython.core.display.Markdown object>"
      ]
     },
     "metadata": {},
     "output_type": "display_data"
    },
    {
     "data": {
      "text/markdown": [
       "- **김보민** (...33): `2002-09-11`"
      ],
      "text/plain": [
       "<IPython.core.display.Markdown object>"
      ]
     },
     "metadata": {},
     "output_type": "display_data"
    },
    {
     "data": {
      "text/markdown": [
       "- **김연진** (...18): `2001-08-26`"
      ],
      "text/plain": [
       "<IPython.core.display.Markdown object>"
      ]
     },
     "metadata": {},
     "output_type": "display_data"
    },
    {
     "data": {
      "text/markdown": [
       "- **노은서** (...50): `2005-03-16`"
      ],
      "text/plain": [
       "<IPython.core.display.Markdown object>"
      ]
     },
     "metadata": {},
     "output_type": "display_data"
    },
    {
     "data": {
      "text/markdown": [
       "- **박서연** (...56): `2004-04-28`"
      ],
      "text/plain": [
       "<IPython.core.display.Markdown object>"
      ]
     },
     "metadata": {},
     "output_type": "display_data"
    },
    {
     "data": {
      "text/markdown": [
       "- **박성연** (...60): `2004-05-14`"
      ],
      "text/plain": [
       "<IPython.core.display.Markdown object>"
      ]
     },
     "metadata": {},
     "output_type": "display_data"
    },
    {
     "data": {
      "text/markdown": [
       "- **변수연** (...18): `2004-08-02`"
      ],
      "text/plain": [
       "<IPython.core.display.Markdown object>"
      ]
     },
     "metadata": {},
     "output_type": "display_data"
    },
    {
     "data": {
      "text/markdown": [
       "- **오세은** (...30): `2005-03-28`"
      ],
      "text/plain": [
       "<IPython.core.display.Markdown object>"
      ]
     },
     "metadata": {},
     "output_type": "display_data"
    },
    {
     "data": {
      "text/markdown": [
       "- **정윤서** (...67): `2003-08-02`"
      ],
      "text/plain": [
       "<IPython.core.display.Markdown object>"
      ]
     },
     "metadata": {},
     "output_type": "display_data"
    },
    {
     "data": {
      "text/markdown": [
       "- **홍서연** (...14): `2004-06-11`"
      ],
      "text/plain": [
       "<IPython.core.display.Markdown object>"
      ]
     },
     "metadata": {},
     "output_type": "display_data"
    }
   ],
   "source": [
    "from datetime import datetime\n",
    "from circularDoublyLinkedList import CircularDoublyLinkedList\n",
    "import csv\n",
    "from IPython.display import display, Markdown\n",
    "\n",
    "same_group_key = [\n",
    "    (\"김연진\", \"18\"),\n",
    "    (\"박성연\", \"60\"),\n",
    "    (\"변수연\", \"18\"),\n",
    "    (\"정윤서\", \"67\"),\n",
    "    (\"박서연\", \"56\"),\n",
    "    (\"노은서\", \"50\"),\n",
    "    (\"오세은\", \"30\"),\n",
    "    (\"김민경\", \"78\"),\n",
    "    (\"김보민\", \"33\"),\n",
    "    (\"홍서연\", \"14\")\n",
    "]\n",
    "\n",
    "birthday_list = CircularDoublyLinkedList()\n",
    "\n",
    "csv_path = \"C:/Users/tjddu/OneDrive/바탕 화면/생일/birthday.csv\"\n",
    "with open(csv_path, newline=\"\", encoding=\"utf-8\") as csvfile:\n",
    "    reader = csv.DictReader(csvfile, delimiter=',')\n",
    "    for row in reader:\n",
    "        keys = list(row.keys())\n",
    "        학번_key = [k for k in keys if '학번' in k][0]\n",
    "        이름_key = [k for k in keys if '이름' in k][0]\n",
    "        생일_key = [k for k in keys if '생년월일' in k][0]\n",
    "\n",
    "        student_id = row[학번_key].strip()\n",
    "        name = row[이름_key].strip()\n",
    "        birth = row[생일_key].strip()\n",
    "        birthday_list.append((student_id, name, birth))\n",
    "\n",
    "display(Markdown(\"###  6조 조원들의 생년월일\"))\n",
    "\n",
    "for student_id, name, birth in birthday_list:\n",
    "    last_two = student_id[-2:]\n",
    "    if (name, last_two) in same_group_key:\n",
    "        try:\n",
    "            birth_fmt = datetime.strptime(birth, \"%Y%m%d\").strftime(\"%Y-%m-%d\")\n",
    "            display(Markdown(f\"- **{name}** (...{last_two}): `{birth_fmt}`\"))\n",
    "        except ValueError:\n",
    "            display(Markdown(f\"- **{name}** (...{last_two}): ⚠ 생일 오류 (`{birth}`)\"))\n"
   ]
  },
  {
   "cell_type": "markdown",
   "id": "4d28f583",
   "metadata": {},
   "source": [
    "# 5. 8장 연습문제"
   ]
  },
  {
   "cell_type": "markdown",
   "id": "3fb3c470",
   "metadata": {},
   "source": [
    "## 01\n",
    "- 가능하다.\n",
    "- 최대 힙의 조건은 부모가 자식보다 크거나 같은 조건은 만족하면 되지, 같은 깊이에 있는 노드나 형제 노드간의 크기 관계는 제한이 없다다.\n",
    "\n",
    "## 02\n",
    "- 아니다.\n",
    "- A[n-1]은 단지 마지막에 삽입된 원소일 뿐, 힙의 최소값이라는 보장은 없다.\n",
    "\n",
    "## 03\n",
    "- [n/2]개\n",
    "- 인덱스 0 ~ (n-1) 중에서 buildHeap()은 부모 노드만 대상으로 스며내리기를 한다.\n",
    "- 인덱스 [n/2] 이상은 리프 노드-> 자식이 없어서 스며내리기 필요 없다.\n",
    "\n",
    "## 04\n",
    "- 최악: 빅 세타(log n) : 루트부터 리프까지 완전히 스며내려야 하는 경우\n",
    "- 최선: 빅 세타(1) : 자식보다 클 경우 스며내릴 필요 없다.\n",
    "\n",
    "## 05\n",
    "- 아니다. 복잡하다.\n",
    "- 힙은 정렬된 구조가 아니다 -> 특정 값을 찾으려면 빅 오(n) 스캔 필요\n",
    "- 이진 탐색처럼 이분 검색이 안된다 -> 삭제 후 스며내리기/올리기도 필요\n",
    "\n",
    "## 06\n",
    "- 위쪽 -> 아래쪽 : 효율적\n",
    "- 아래쪽 -> 위쪽 : 비효율적\n",
    "- 아래에서 위는 부모보다 자식이 먼저 정렬되기 전, 의미 없는 비교가 많아진다. 기존 방식은 루트 방향으로 거슬러 올라가면서 효율적으로 정리되어 기존방식이 더 효율적이다. \n",
    "- 기존 방식: 빅 세타(n) , 스며올리기 반복: 빅 세타(n log n) 으로 기존 방식이 점근적으로 더 효율적이다.\n",
    "\n",
    "## 07\n",
    "- 스며올리기 수행\n",
    "-해당 노드의 값이 증가하려면 -> 부모와 비교해서 부모보다 크면 교환 -> 이 과정을 루트까지 반복 -> 최대 log n 단계 내에 힙 성질이 복구됨\n"
   ]
  },
  {
   "cell_type": "markdown",
   "id": "47b717d2",
   "metadata": {},
   "source": [
    "# 6. LeetCode 703"
   ]
  },
  {
   "cell_type": "code",
   "execution_count": null,
   "id": "d4075680",
   "metadata": {},
   "outputs": [],
   "source": [
    "class KthLargest:\n",
    "    def __init__(self, k, nums):\n",
    "        self.k = k\n",
    "        self.min_heap = []\n",
    "        for num in nums:\n",
    "            self.add(num)  # 초기 값도 add로 넣으면서 힙 유지\n",
    "\n",
    "    def add(self, val):\n",
    "        heapq.heappush(self.min_heap, val)\n",
    "        if len(self.min_heap) > self.k:\n",
    "            heapq.heappop(self.min_heap)  # 가장 작은 수 제거\n",
    "        return self.min_heap[0]  # k번째로 큰 수"
   ]
  }
 ],
 "metadata": {
  "kernelspec": {
   "display_name": "Python 3",
   "language": "python",
   "name": "python3"
  },
  "language_info": {
   "codemirror_mode": {
    "name": "ipython",
    "version": 3
   },
   "file_extension": ".py",
   "mimetype": "text/x-python",
   "name": "python",
   "nbconvert_exporter": "python",
   "pygments_lexer": "ipython3",
   "version": "3.13.2"
  }
 },
 "nbformat": 4,
 "nbformat_minor": 5
}
